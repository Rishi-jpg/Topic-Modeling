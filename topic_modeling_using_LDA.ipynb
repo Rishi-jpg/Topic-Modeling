{
  "nbformat": 4,
  "nbformat_minor": 0,
  "metadata": {
    "colab": {
      "name": "topic_modeling_using_LDA.ipynb",
      "provenance": [],
      "collapsed_sections": []
    },
    "kernelspec": {
      "name": "python3",
      "display_name": "Python 3"
    },
    "language_info": {
      "name": "python"
    }
  },
  "cells": [
    {
      "cell_type": "markdown",
      "metadata": {
        "id": "xWa_8KRnbFmC"
      },
      "source": [
        "## **Importing datasets**\n",
        "\n",
        "Load the filenames and data from the 20 newsgroups dataset (classification).\n",
        "\n",
        "1) Classes - 20 <br>\n",
        "2) Samples total - 18846 <br>\n",
        "3) Dimensionality - 1 <br>\n",
        "4) Features - text <br>"
      ]
    },
    {
      "cell_type": "code",
      "metadata": {
        "id": "Y3U5b5tWXfO3"
      },
      "source": [
        "# importing libraries\n",
        "import numpy as np\n",
        "import pandas as pd"
      ],
      "execution_count": 38,
      "outputs": []
    },
    {
      "cell_type": "code",
      "metadata": {
        "id": "uTa7w_zaTnUY"
      },
      "source": [
        "# importing dataset\n",
        "from sklearn.datasets import fetch_20newsgroups\n",
        "train_data = fetch_20newsgroups(subset=\"train\",shuffle=True)\n",
        "test_data = fetch_20newsgroups(subset=\"test\", shuffle=True)"
      ],
      "execution_count": 39,
      "outputs": []
    },
    {
      "cell_type": "code",
      "metadata": {
        "colab": {
          "base_uri": "https://localhost:8080/"
        },
        "id": "EOMim0fAW7JC",
        "outputId": "be2e5ccc-4cb3-4124-a30d-bd829c5c0dad"
      },
      "source": [
        "# look at some sample news\n",
        "train_data.data[:5]"
      ],
      "execution_count": 40,
      "outputs": [
        {
          "output_type": "execute_result",
          "data": {
            "text/plain": [
              "[\"From: lerxst@wam.umd.edu (where's my thing)\\nSubject: WHAT car is this!?\\nNntp-Posting-Host: rac3.wam.umd.edu\\nOrganization: University of Maryland, College Park\\nLines: 15\\n\\n I was wondering if anyone out there could enlighten me on this car I saw\\nthe other day. It was a 2-door sports car, looked to be from the late 60s/\\nearly 70s. It was called a Bricklin. The doors were really small. In addition,\\nthe front bumper was separate from the rest of the body. This is \\nall I know. If anyone can tellme a model name, engine specs, years\\nof production, where this car is made, history, or whatever info you\\nhave on this funky looking car, please e-mail.\\n\\nThanks,\\n- IL\\n   ---- brought to you by your neighborhood Lerxst ----\\n\\n\\n\\n\\n\",\n",
              " \"From: guykuo@carson.u.washington.edu (Guy Kuo)\\nSubject: SI Clock Poll - Final Call\\nSummary: Final call for SI clock reports\\nKeywords: SI,acceleration,clock,upgrade\\nArticle-I.D.: shelley.1qvfo9INNc3s\\nOrganization: University of Washington\\nLines: 11\\nNNTP-Posting-Host: carson.u.washington.edu\\n\\nA fair number of brave souls who upgraded their SI clock oscillator have\\nshared their experiences for this poll. Please send a brief message detailing\\nyour experiences with the procedure. Top speed attained, CPU rated speed,\\nadd on cards and adapters, heat sinks, hour of usage per day, floppy disk\\nfunctionality with 800 and 1.4 m floppies are especially requested.\\n\\nI will be summarizing in the next two days, so please add to the network\\nknowledge base if you have done the clock upgrade and haven't answered this\\npoll. Thanks.\\n\\nGuy Kuo <guykuo@u.washington.edu>\\n\",\n",
              " 'From: twillis@ec.ecn.purdue.edu (Thomas E Willis)\\nSubject: PB questions...\\nOrganization: Purdue University Engineering Computer Network\\nDistribution: usa\\nLines: 36\\n\\nwell folks, my mac plus finally gave up the ghost this weekend after\\nstarting life as a 512k way back in 1985.  sooo, i\\'m in the market for a\\nnew machine a bit sooner than i intended to be...\\n\\ni\\'m looking into picking up a powerbook 160 or maybe 180 and have a bunch\\nof questions that (hopefully) somebody can answer:\\n\\n* does anybody know any dirt on when the next round of powerbook\\nintroductions are expected?  i\\'d heard the 185c was supposed to make an\\nappearence \"this summer\" but haven\\'t heard anymore on it - and since i\\ndon\\'t have access to macleak, i was wondering if anybody out there had\\nmore info...\\n\\n* has anybody heard rumors about price drops to the powerbook line like the\\nones the duo\\'s just went through recently?\\n\\n* what\\'s the impression of the display on the 180?  i could probably swing\\na 180 if i got the 80Mb disk rather than the 120, but i don\\'t really have\\na feel for how much \"better\" the display is (yea, it looks great in the\\nstore, but is that all \"wow\" or is it really that good?).  could i solicit\\nsome opinions of people who use the 160 and 180 day-to-day on if its worth\\ntaking the disk size and money hit to get the active display?  (i realize\\nthis is a real subjective question, but i\\'ve only played around with the\\nmachines in a computer store breifly and figured the opinions of somebody\\nwho actually uses the machine daily might prove helpful).\\n\\n* how well does hellcats perform?  ;)\\n\\nthanks a bunch in advance for any info - if you could email, i\\'ll post a\\nsummary (news reading time is at a premium with finals just around the\\ncorner... :( )\\n--\\nTom Willis  \\\\  twillis@ecn.purdue.edu    \\\\    Purdue Electrical Engineering\\n---------------------------------------------------------------------------\\n\"Convictions are more dangerous enemies of truth than lies.\"  - F. W.\\nNietzsche\\n',\n",
              " 'From: jgreen@amber (Joe Green)\\nSubject: Re: Weitek P9000 ?\\nOrganization: Harris Computer Systems Division\\nLines: 14\\nDistribution: world\\nNNTP-Posting-Host: amber.ssd.csd.harris.com\\nX-Newsreader: TIN [version 1.1 PL9]\\n\\nRobert J.C. Kyanko (rob@rjck.UUCP) wrote:\\n> abraxis@iastate.edu writes in article <abraxis.734340159@class1.iastate.edu>:\\n> > Anyone know about the Weitek P9000 graphics chip?\\n> As far as the low-level stuff goes, it looks pretty nice.  It\\'s got this\\n> quadrilateral fill command that requires just the four points.\\n\\nDo you have Weitek\\'s address/phone number?  I\\'d like to get some information\\nabout this chip.\\n\\n--\\nJoe Green\\t\\t\\t\\tHarris Corporation\\njgreen@csd.harris.com\\t\\t\\tComputer Systems Division\\n\"The only thing that really scares me is a person with no sense of humor.\"\\n\\t\\t\\t\\t\\t\\t-- Jonathan Winters\\n',\n",
              " 'From: jcm@head-cfa.harvard.edu (Jonathan McDowell)\\nSubject: Re: Shuttle Launch Question\\nOrganization: Smithsonian Astrophysical Observatory, Cambridge, MA,  USA\\nDistribution: sci\\nLines: 23\\n\\nFrom article <C5owCB.n3p@world.std.com>, by tombaker@world.std.com (Tom A Baker):\\n>>In article <C5JLwx.4H9.1@cs.cmu.edu>, ETRAT@ttacs1.ttu.edu (Pack Rat) writes...\\n>>>\"Clear caution & warning memory.  Verify no unexpected\\n>>>errors. ...\".  I am wondering what an \"expected error\" might\\n>>>be.  Sorry if this is a really dumb question, but\\n> \\n> Parity errors in memory or previously known conditions that were waivered.\\n>    \"Yes that is an error, but we already knew about it\"\\n> I\\'d be curious as to what the real meaning of the quote is.\\n> \\n> tom\\n\\n\\nMy understanding is that the \\'expected errors\\' are basically\\nknown bugs in the warning system software - things are checked\\nthat don\\'t have the right values in yet because they aren\\'t\\nset till after launch, and suchlike. Rather than fix the code\\nand possibly introduce new bugs, they just tell the crew\\n\\'ok, if you see a warning no. 213 before liftoff, ignore it\\'.\\n\\n - Jonathan\\n\\n\\n']"
            ]
          },
          "metadata": {
            "tags": []
          },
          "execution_count": 40
        }
      ]
    },
    {
      "cell_type": "code",
      "metadata": {
        "colab": {
          "base_uri": "https://localhost:8080/"
        },
        "id": "CKvlKzMwUd83",
        "outputId": "6f2fc36d-ab8d-4d07-cc51-2d1cfe2aca0b"
      },
      "source": [
        "print(list(train_data))\n",
        "print(list(train_data.target_names))"
      ],
      "execution_count": 41,
      "outputs": [
        {
          "output_type": "stream",
          "text": [
            "['data', 'filenames', 'target_names', 'target', 'DESCR']\n",
            "['alt.atheism', 'comp.graphics', 'comp.os.ms-windows.misc', 'comp.sys.ibm.pc.hardware', 'comp.sys.mac.hardware', 'comp.windows.x', 'misc.forsale', 'rec.autos', 'rec.motorcycles', 'rec.sport.baseball', 'rec.sport.hockey', 'sci.crypt', 'sci.electronics', 'sci.med', 'sci.space', 'soc.religion.christian', 'talk.politics.guns', 'talk.politics.mideast', 'talk.politics.misc', 'talk.religion.misc']\n"
          ],
          "name": "stdout"
        }
      ]
    },
    {
      "cell_type": "markdown",
      "metadata": {
        "id": "uPltctSTWPkm"
      },
      "source": [
        "## **Now Preprocessing the raw text**"
      ]
    },
    {
      "cell_type": "code",
      "metadata": {
        "colab": {
          "base_uri": "https://localhost:8080/"
        },
        "id": "jrmxn9OFWKsd",
        "outputId": "2f102283-2e6a-4f67-95c3-b8645dfe02f6"
      },
      "source": [
        "# import libraries\n",
        "import nltk\n",
        "import gensim\n",
        "from gensim.utils import simple_preprocess\n",
        "from gensim.parsing.preprocessing import STOPWORDS\n",
        "from nltk.stem import WordNetLemmatizer, SnowballStemmer\n",
        "from nltk.stem.porter import *\n",
        "nltk.download('wordnet')"
      ],
      "execution_count": 42,
      "outputs": [
        {
          "output_type": "stream",
          "text": [
            "[nltk_data] Downloading package wordnet to /root/nltk_data...\n",
            "[nltk_data]   Package wordnet is already up-to-date!\n"
          ],
          "name": "stdout"
        },
        {
          "output_type": "execute_result",
          "data": {
            "text/plain": [
              "True"
            ]
          },
          "metadata": {
            "tags": []
          },
          "execution_count": 42
        }
      ]
    },
    {
      "cell_type": "code",
      "metadata": {
        "id": "at0tLCf1juft"
      },
      "source": [
        "stemmer = SnowballStemmer(\"english\")\n",
        "\n",
        "def lemmatize_stemming(text):\n",
        "  return stemmer.stem(WordNetLemmatizer().lemmatize(text, pos='v'))\n",
        "\n",
        "def preprocess(text):\n",
        "  result=[]\n",
        "  for token in gensim.utils.simple_preprocess(text):\n",
        "    if token not in gensim.parsing.preprocessing.STOPWORDS and len(token) > 3:\n",
        "      result.append(lemmatize_stemming(token))\n",
        "  return result"
      ],
      "execution_count": 43,
      "outputs": []
    },
    {
      "cell_type": "code",
      "metadata": {
        "colab": {
          "base_uri": "https://localhost:8080/"
        },
        "id": "FY_wUUcs2HiJ",
        "outputId": "5fcb13dc-0fa3-4f81-d5a4-6b68b5fffad7"
      },
      "source": [
        "doc_sample = \"This disk has failed many times. I would like to get it replaced\"\n",
        "print(\"Original\")\n",
        "words = []\n",
        "for word in doc_sample.split(' '):\n",
        "  words.append(word)\n",
        "print(words)\n",
        "print(\"\\n\\nTokenized and lemmatized document: \")\n",
        "print(preprocess(doc_sample))"
      ],
      "execution_count": 44,
      "outputs": [
        {
          "output_type": "stream",
          "text": [
            "Original\n",
            "['This', 'disk', 'has', 'failed', 'many', 'times.', 'I', 'would', 'like', 'to', 'get', 'it', 'replaced']\n",
            "\n",
            "\n",
            "Tokenized and lemmatized document: \n",
            "['disk', 'fail', 'time', 'like', 'replac']\n"
          ],
          "name": "stdout"
        }
      ]
    },
    {
      "cell_type": "code",
      "metadata": {
        "id": "mENZWerr2ucW",
        "colab": {
          "base_uri": "https://localhost:8080/"
        },
        "outputId": "bfd4c03c-a47b-42cb-ca67-373abb4eeb5d"
      },
      "source": [
        "processed_docs = [] \n",
        "\n",
        "for doc in train_data.data:\n",
        "  processed_docs.append(preprocess(doc))\n",
        "\n",
        "# print processed_docs\n",
        "print(processed_docs[:5])"
      ],
      "execution_count": 45,
      "outputs": [
        {
          "output_type": "stream",
          "text": [
            "[['lerxst', 'thing', 'subject', 'nntp', 'post', 'host', 'organ', 'univers', 'maryland', 'colleg', 'park', 'line', 'wonder', 'enlighten', 'door', 'sport', 'look', 'late', 'earli', 'call', 'bricklin', 'door', 'small', 'addit', 'bumper', 'separ', 'rest', 'bodi', 'know', 'tellm', 'model', 'engin', 'spec', 'year', 'product', 'histori', 'info', 'funki', 'look', 'mail', 'thank', 'bring', 'neighborhood', 'lerxst'], ['guykuo', 'carson', 'washington', 'subject', 'clock', 'poll', 'final', 'summari', 'final', 'clock', 'report', 'keyword', 'acceler', 'clock', 'upgrad', 'articl', 'shelley', 'qvfo', 'innc', 'organ', 'univers', 'washington', 'line', 'nntp', 'post', 'host', 'carson', 'washington', 'fair', 'number', 'brave', 'soul', 'upgrad', 'clock', 'oscil', 'share', 'experi', 'poll', 'send', 'brief', 'messag', 'detail', 'experi', 'procedur', 'speed', 'attain', 'rat', 'speed', 'card', 'adapt', 'heat', 'sink', 'hour', 'usag', 'floppi', 'disk', 'function', 'floppi', 'especi', 'request', 'summar', 'day', 'network', 'knowledg', 'base', 'clock', 'upgrad', 'haven', 'answer', 'poll', 'thank', 'guykuo', 'washington'], ['twilli', 'purdu', 'thoma', 'willi', 'subject', 'question', 'organ', 'purdu', 'univers', 'engin', 'network', 'distribut', 'line', 'folk', 'plus', 'final', 'give', 'ghost', 'weekend', 'start', 'life', 'sooo', 'market', 'machin', 'sooner', 'intend', 'look', 'pick', 'powerbook', 'mayb', 'bunch', 'question', 'hope', 'somebodi', 'answer', 'anybodi', 'know', 'dirt', 'round', 'powerbook', 'introduct', 'expect', 'hear', 'suppos', 'appear', 'summer', 'haven', 'hear', 'anymor', 'access', 'macleak', 'wonder', 'anybodi', 'info', 'anybodi', 'hear', 'rumor', 'price', 'drop', 'powerbook', 'line', 'like', 'one', 'go', 'recent', 'impress', 'display', 'probabl', 'swing', 'disk', 'feel', 'better', 'display', 'look', 'great', 'store', 'good', 'solicit', 'opinion', 'peopl', 'worth', 'take', 'disk', 'size', 'money', 'activ', 'display', 'realiz', 'real', 'subject', 'question', 'play', 'machin', 'store', 'breifli', 'figur', 'opinion', 'somebodi', 'actual', 'use', 'machin', 'daili', 'prove', 'help', 'hellcat', 'perform', 'thank', 'bunch', 'advanc', 'info', 'email', 'post', 'summari', 'news', 'read', 'time', 'premium', 'final', 'corner', 'willi', 'twilli', 'purdu', 'purdu', 'electr', 'engin', 'convict', 'danger', 'enemi', 'truth', 'lie', 'nietzsch'], ['jgreen', 'amber', 'green', 'subject', 'weitek', 'organ', 'harri', 'system', 'divis', 'line', 'distribut', 'world', 'nntp', 'post', 'host', 'amber', 'harri', 'newsread', 'version', 'robert', 'kyanko', 'rjck', 'uucp', 'write', 'abraxi', 'iastat', 'write', 'articl', 'abraxi', 'class', 'iastat', 'know', 'weitek', 'graphic', 'chip', 'level', 'stuff', 'go', 'look', 'pretti', 'nice', 'quadrilater', 'command', 'requir', 'point', 'weitek', 'address', 'phone', 'number', 'like', 'inform', 'chip', 'green', 'harri', 'corpor', 'jgreen', 'harri', 'system', 'divis', 'thing', 'scar', 'person', 'sens', 'humor', 'jonathan', 'winter'], ['head', 'harvard', 'jonathan', 'mcdowel', 'subject', 'shuttl', 'launch', 'question', 'organ', 'smithsonian', 'astrophys', 'observatori', 'cambridg', 'distribut', 'line', 'articl', 'owcb', 'world', 'tombak', 'world', 'baker', 'articl', 'jlwx', 'etrat', 'ttac', 'pack', 'write', 'clear', 'caution', 'warn', 'memori', 'verifi', 'unexpect', 'error', 'wonder', 'expect', 'error', 'sorri', 'dumb', 'question', 'pariti', 'error', 'memori', 'previous', 'know', 'condit', 'waiver', 'error', 'know', 'curious', 'real', 'mean', 'quot', 'understand', 'expect', 'error', 'basic', 'know', 'bug', 'warn', 'softwar', 'thing', 'check', 'right', 'valu', 'aren', 'till', 'launch', 'suchlik', 'code', 'possibl', 'introduc', 'bug', 'tell', 'crew', 'warn', 'liftoff', 'ignor', 'jonathan']]\n"
          ],
          "name": "stdout"
        }
      ]
    },
    {
      "cell_type": "markdown",
      "metadata": {
        "id": "qeKou9Wk6vJ2"
      },
      "source": [
        "##**Bag Of Words on dataset**"
      ]
    },
    {
      "cell_type": "code",
      "metadata": {
        "colab": {
          "base_uri": "https://localhost:8080/"
        },
        "id": "DqaXu7K79NSV",
        "outputId": "6c03be7b-18e4-456f-ac02-042dd8ac51e3"
      },
      "source": [
        "dictionary = gensim.corpora.Dictionary(processed_docs)\n",
        "\n",
        "count = 0\n",
        "for _key, _value in dictionary.iteritems():\n",
        "  print(_key, _value)\n",
        "  count += 1\n",
        "  if count > 10:\n",
        "    break"
      ],
      "execution_count": 46,
      "outputs": [
        {
          "output_type": "stream",
          "text": [
            "0 addit\n",
            "1 bodi\n",
            "2 bricklin\n",
            "3 bring\n",
            "4 bumper\n",
            "5 call\n",
            "6 colleg\n",
            "7 door\n",
            "8 earli\n",
            "9 engin\n",
            "10 enlighten\n"
          ],
          "name": "stdout"
        }
      ]
    },
    {
      "cell_type": "code",
      "metadata": {
        "id": "tB3ajfyL97N6"
      },
      "source": [
        "# remove very rare and very common word\n",
        "# words appearing less than 10 times\n",
        "\n",
        "dictionary.filter_extremes(no_below=10, no_above=0.1, keep_n=100000)"
      ],
      "execution_count": 47,
      "outputs": []
    },
    {
      "cell_type": "code",
      "metadata": {
        "id": "GkpIR3fO-6yF"
      },
      "source": [
        "bow_corpus = [dictionary.doc2bow(doc) for doc in processed_docs]"
      ],
      "execution_count": 48,
      "outputs": []
    },
    {
      "cell_type": "code",
      "metadata": {
        "colab": {
          "base_uri": "https://localhost:8080/"
        },
        "id": "gAAFucIp_W1t",
        "outputId": "1976bbd1-c11e-4c76-d476-9f97dc0cacb7"
      },
      "source": [
        "document_num = 20\n",
        "bow_doc_x = bow_corpus[document_num]\n",
        "\n",
        "for i in range(len(bow_doc_x)):\n",
        "  print(\"Word {} (\\\"{}\\\") appears {} time.\".format(bow_doc_x[i][0],\n",
        "                                                   dictionary[bow_doc_x[i][0]],\n",
        "                                                   bow_doc_x[i][1]))"
      ],
      "execution_count": 49,
      "outputs": [
        {
          "output_type": "stream",
          "text": [
            "Word 18 (\"rest\") appears 1 time.\n",
            "Word 169 (\"clear\") appears 1 time.\n",
            "Word 346 (\"refer\") appears 1 time.\n",
            "Word 360 (\"true\") appears 1 time.\n",
            "Word 403 (\"technolog\") appears 1 time.\n",
            "Word 452 (\"christian\") appears 1 time.\n",
            "Word 468 (\"exampl\") appears 1 time.\n",
            "Word 491 (\"jew\") appears 1 time.\n",
            "Word 495 (\"lead\") appears 1 time.\n",
            "Word 497 (\"littl\") appears 3 time.\n",
            "Word 540 (\"wors\") appears 2 time.\n",
            "Word 748 (\"keith\") appears 3 time.\n",
            "Word 760 (\"punish\") appears 1 time.\n",
            "Word 835 (\"california\") appears 1 time.\n",
            "Word 894 (\"institut\") appears 1 time.\n",
            "Word 954 (\"similar\") appears 1 time.\n",
            "Word 1033 (\"allan\") appears 1 time.\n",
            "Word 1034 (\"anti\") appears 1 time.\n",
            "Word 1035 (\"arriv\") appears 1 time.\n",
            "Word 1036 (\"austria\") appears 1 time.\n",
            "Word 1037 (\"caltech\") appears 2 time.\n",
            "Word 1038 (\"distinguish\") appears 1 time.\n",
            "Word 1039 (\"german\") appears 1 time.\n",
            "Word 1040 (\"germani\") appears 3 time.\n",
            "Word 1041 (\"hitler\") appears 1 time.\n",
            "Word 1042 (\"livesey\") appears 2 time.\n",
            "Word 1043 (\"motto\") appears 2 time.\n",
            "Word 1044 (\"order\") appears 1 time.\n",
            "Word 1045 (\"pasadena\") appears 1 time.\n",
            "Word 1046 (\"pompous\") appears 1 time.\n",
            "Word 1047 (\"popul\") appears 1 time.\n",
            "Word 1048 (\"rank\") appears 1 time.\n",
            "Word 1049 (\"schneider\") appears 1 time.\n",
            "Word 1050 (\"semit\") appears 1 time.\n",
            "Word 1051 (\"social\") appears 1 time.\n",
            "Word 1052 (\"solntz\") appears 1 time.\n"
          ],
          "name": "stdout"
        }
      ]
    },
    {
      "cell_type": "markdown",
      "metadata": {
        "id": "-3Nz04z8YQef"
      },
      "source": [
        "## **Running LDA using Bag of Words**"
      ]
    },
    {
      "cell_type": "code",
      "metadata": {
        "id": "CNka2BiWX09w"
      },
      "source": [
        "lda_model = gensim.models.LdaMulticore(bow_corpus,\n",
        "                                       num_topics=8,\n",
        "                                       id2word=dictionary,\n",
        "                                       passes=10,\n",
        "                                       workers=2)"
      ],
      "execution_count": 35,
      "outputs": []
    },
    {
      "cell_type": "code",
      "metadata": {
        "colab": {
          "base_uri": "https://localhost:8080/"
        },
        "id": "iztV8MUaZUfd",
        "outputId": "78337d69-1381-44dc-de87-351e172b9a04"
      },
      "source": [
        "for idx, topic in lda_model.print_topics(-1):\n",
        "    print(\"Topic: {} \\nWords: {}\".format(idx, topic ))\n",
        "    print(\"\\n\")"
      ],
      "execution_count": 36,
      "outputs": [
        {
          "output_type": "stream",
          "text": [
            "Topic: 0 \n",
            "Words: 0.016*\"game\" + 0.013*\"team\" + 0.010*\"play\" + 0.009*\"player\" + 0.006*\"hockey\" + 0.006*\"season\" + 0.005*\"leagu\" + 0.004*\"score\" + 0.004*\"pittsburgh\" + 0.004*\"pitt\"\n",
            "\n",
            "\n",
            "Topic: 1 \n",
            "Words: 0.013*\"space\" + 0.010*\"nasa\" + 0.009*\"imag\" + 0.005*\"graphic\" + 0.005*\"orbit\" + 0.005*\"color\" + 0.004*\"access\" + 0.004*\"card\" + 0.004*\"launch\" + 0.004*\"research\"\n",
            "\n",
            "\n",
            "Topic: 2 \n",
            "Words: 0.015*\"window\" + 0.014*\"file\" + 0.008*\"program\" + 0.006*\"version\" + 0.005*\"softwar\" + 0.004*\"avail\" + 0.004*\"server\" + 0.004*\"card\" + 0.004*\"email\" + 0.004*\"machin\"\n",
            "\n",
            "\n",
            "Topic: 3 \n",
            "Words: 0.008*\"israel\" + 0.006*\"isra\" + 0.004*\"arab\" + 0.004*\"research\" + 0.004*\"jew\" + 0.004*\"kill\" + 0.004*\"human\" + 0.003*\"food\" + 0.003*\"islam\" + 0.003*\"caus\"\n",
            "\n",
            "\n",
            "Topic: 4 \n",
            "Words: 0.009*\"encrypt\" + 0.007*\"chip\" + 0.006*\"secur\" + 0.006*\"clipper\" + 0.005*\"govern\" + 0.005*\"public\" + 0.005*\"wire\" + 0.004*\"protect\" + 0.004*\"key\" + 0.004*\"phone\"\n",
            "\n",
            "\n",
            "Topic: 5 \n",
            "Words: 0.011*\"armenian\" + 0.006*\"turkish\" + 0.006*\"bike\" + 0.005*\"kill\" + 0.004*\"live\" + 0.004*\"leav\" + 0.004*\"govern\" + 0.003*\"happen\" + 0.003*\"greek\" + 0.003*\"turk\"\n",
            "\n",
            "\n",
            "Topic: 6 \n",
            "Words: 0.020*\"drive\" + 0.010*\"scsi\" + 0.008*\"presid\" + 0.007*\"govern\" + 0.007*\"control\" + 0.006*\"clinton\" + 0.006*\"hard\" + 0.005*\"disk\" + 0.004*\"money\" + 0.004*\"american\"\n",
            "\n",
            "\n",
            "Topic: 7 \n",
            "Words: 0.014*\"christian\" + 0.009*\"jesus\" + 0.007*\"exist\" + 0.006*\"bibl\" + 0.005*\"religion\" + 0.005*\"word\" + 0.005*\"church\" + 0.004*\"life\" + 0.004*\"faith\" + 0.004*\"moral\"\n",
            "\n",
            "\n"
          ],
          "name": "stdout"
        }
      ]
    },
    {
      "cell_type": "markdown",
      "metadata": {
        "id": "IINCXxFaadcR"
      },
      "source": [
        "## **Testing model on test data**"
      ]
    },
    {
      "cell_type": "code",
      "metadata": {
        "colab": {
          "base_uri": "https://localhost:8080/"
        },
        "id": "pzkW6vkOawPL",
        "outputId": "e77f7572-d17a-4975-f33e-6d32901203ce"
      },
      "source": [
        "test_data.data[:5]"
      ],
      "execution_count": 50,
      "outputs": [
        {
          "output_type": "execute_result",
          "data": {
            "text/plain": [
              "['From: v064mb9k@ubvmsd.cc.buffalo.edu (NEIL B. GANDLER)\\nSubject: Need info on 88-89 Bonneville\\nOrganization: University at Buffalo\\nLines: 10\\nNews-Software: VAX/VMS VNEWS 1.41\\nNntp-Posting-Host: ubvmsd.cc.buffalo.edu\\n\\n\\n I am a little confused on all of the models of the 88-89 bonnevilles.\\nI have heard of the LE SE LSE SSE SSEI. Could someone tell me the\\ndifferences are far as features or performance. I am also curious to\\nknow what the book value is for prefereably the 89 model. And how much\\nless than book value can you usually get them for. In other words how\\nmuch are they in demand this time of year. I have heard that the mid-spring\\nearly summer is the best time to buy.\\n\\n\\t\\t\\tNeil Gandler\\n',\n",
              " 'From: Rick Miller <rick@ee.uwm.edu>\\nSubject: X-Face?\\nOrganization: Just me.\\nLines: 17\\nDistribution: world\\nNNTP-Posting-Host: 129.89.2.33\\nSummary: Go ahead... swamp me.  <EEP!>\\n\\nI\\'m not familiar at all with the format of these \"X-Face:\" thingies, but\\nafter seeing them in some folks\\' headers, I\\'ve *got* to *see* them (and\\nmaybe make one of my own)!\\n\\nI\\'ve got \"dpg-view\" on my Linux box (which displays \"uncompressed X-Faces\")\\nand I\\'ve managed to compile [un]compface too... but now that I\\'m *looking*\\nfor them, I can\\'t seem to find any X-Face:\\'s in anyones news headers!  :-(\\n\\nCould you, would you, please send me your \"X-Face:\" header?\\n\\nI *know* I\\'ll probably get a little swamped, but I can handle it.\\n\\n\\t...I hope.\\n\\nRick Miller  <rick@ee.uwm.edu> | <ricxjo@discus.mil.wi.us>   Ricxjo Muelisto\\nSend a postcard, get one back! | Enposxtigu bildkarton kaj vi ricevos alion!\\n          RICK MILLER // 16203 WOODS // MUSKEGO, WIS. 53150 // USA\\n',\n",
              " 'From: mathew <mathew@mantis.co.uk>\\nSubject: Re: STRONG & weak Atheism\\nOrganization: Mantis Consultants, Cambridge. UK.\\nX-Newsreader: rusnews v1.02\\nLines: 9\\n\\nacooper@mac.cc.macalstr.edu (Turin Turambar, ME Department of Utter Misery) writes:\\n> Did that FAQ ever got modified to re-define strong atheists as not those who\\n> assert the nonexistence of God, but as those who assert that they BELIEVE in \\n> the nonexistence of God?\\n\\nIn a word, yes.\\n\\n\\nmathew\\n',\n",
              " 'From: bakken@cs.arizona.edu (Dave Bakken)\\nSubject: Re: Saudi clergy condemns debut of human rights group!\\nKeywords: international, non-usa government, government, civil rights, \\tsocial issues, politics\\nOrganization: U of Arizona CS Dept, Tucson\\nLines: 101\\n\\nIn article <benali.737307554@alcor> benali@alcor.concordia.ca ( ILYESS B. BDIRA ) writes:\\n>It looks like Ben Baz\\'s mind and heart are also blind, not only his eyes.\\n>I used to respect him, today I lost the minimal amount of respect that\\n>I struggled to keep for him.\\n>To All Muslim netters: This is the same guy who gave a \"Fatwah\" that\\n>Saudi Arabia can be used by the United Ststes to attack Iraq . \\n\\nThey were attacking the Iraqis to drive them out of Kuwait,\\na country whose citizens have close blood and business ties\\nto Saudi citizens.  And me thinks if the US had not helped out\\nthe Iraqis would have swallowed Saudi Arabia, too (or at \\nleast the eastern oilfields).  And no Muslim country was doing\\nmuch of anything to help liberate Kuwait and protect Saudi\\nArabia; indeed, in some masses of citizens were demonstrating\\nin favor of that butcher Saddam (who killed lotsa Muslims),\\njust because he was killing, raping, and looting relatively\\nrich Muslims and also thumbing his nose at the West.\\n\\nSo how would have *you* defended Saudi Arabia and rolled\\nback the Iraqi invasion, were you in charge of Saudi Arabia???\\n\\n>Fatwah is as legitimate as this one. With that kind of \"Clergy\", it might\\n>be an Islamic duty to separate religion and politics, if religion\\n>means \"official Clergy\".\\n\\nI think that it is a very good idea to not have governments have an\\nofficial religion (de facto or de jure), because with human nature\\nlike it is, the ambitious and not the pious will always be the\\nones who rise to power.  There are just too many people in this\\nworld (or any country) for the citizens to really know if a \\nleader is really devout or if he is just a slick operator.\\n\\n>\\n>  \\tCAIRO, Egypt (UPI) -- The Cairo-based Arab Organization for Human\\n>  Rights (AOHR) Thursday welcomed the establishement last week of the\\n>  Committee for Defense of Legal Rights in Saudi Arabia and said it was\\n>  necessary to have such groups operating in all Arab countries.\\n\\nYou make it sound like these guys are angels, Ilyess.  (In your\\nclarinet posting you edited out some stuff; was it the following???)\\nFriday\\'s New York Times reported that this group definitely is\\nmore conservative than even Sheikh Baz and his followers (who\\nthink that the House of Saud does not rule the country conservatively\\nenough).  The NYT reported that, besides complaining that the\\ngovernment was not conservative enough, they have:\\n\\n\\t- asserted that the (approx. 500,000) Shiites in the Kingdom\\n\\t  are apostates, a charge that under Saudi (and Islamic) law\\n\\t  brings the death penalty.  \\n\\n\\t  Diplomatic guy (Sheikh bin Jibrin), isn\\'t he Ilyess?\\n\\n\\t- called for severe punishment of the 40 or so women who\\n\\t  drove in public a while back to protest the ban on\\n\\t  women driving.  The guy from the group who said this,\\n\\t  Abdelhamoud al-Toweijri, said that these women should\\n\\t  be fired from their jobs, jailed, and branded as\\n\\t  prostitutes.\\n\\n\\t  Is this what you want to see happen, Ilyess?  I\\'ve\\n\\t  heard many Muslims say that the ban on women driving\\n\\t  has no basis in the Qur\\'an, the ahadith, etc.\\n\\t  Yet these folks not only like the ban, they want\\n\\t  these women falsely called prostitutes?  \\n\\n\\t  If I were you, I\\'d choose my heroes wisely,\\n\\t  Ilyess, not just reflexively rally behind\\n\\t  anyone who hates anyone you hate.\\n\\n\\t- say that women should not be allowed to work.\\n\\n\\t- say that TV and radio are too immoral in the Kingdom.\\n\\nNow, the House of Saud is neither my least nor my most favorite government\\non earth; I think they restrict religious and political reedom a lot, among\\nother things.  I just think that the most likely replacements\\nfor them are going to be a lot worse for the citizens of the country.\\nBut I think the House of Saud is feeling the heat lately.  In the\\nlast six months or so I\\'ve read there have been stepped up harassing\\nby the muttawain (religious police---*not* government) of Western women\\nnot fully veiled (something stupid for women to do, IMO, because it\\nsends the wrong signals about your morality).  And I\\'ve read that\\nthey\\'ve cracked down on the few, home-based expartiate religious\\ngatherings, and even posted rewards in (government-owned) newspapers\\noffering money for anyone who turns in a group of expartiates who\\ndare worship in their homes or any other secret place. So the\\ngovernment has grown even more intolerant to try to take some of\\nthe wind out of the sails of the more-conservative opposition.\\nAs unislamic as some of these things are, they\\'re just a small\\ntaste of what would happen if these guys overthrow the House of\\nSaud, like they\\'re trying to in the long run.\\n\\nIs this really what you (and Rached and others in the general\\nwest-is-evil-zionists-rule-hate-west-or-you-are-a-puppet crowd)\\nwant, Ilyess?\\n\\n--\\nDave Bakken\\n==>\"the President is doing a fine job, but the problem is we don\\'t know what\\n    to do with her husband.\" James Carville (Clinton campaign strategist),2/93\\n==>\"Oh, please call Daddy. Mom\\'s far too busy.\"  Chelsea to nurse, CSPAN, 2/93\\n',\n",
              " 'From: livesey@solntze.wpd.sgi.com (Jon Livesey)\\nSubject: Re: After 2000 years, can we say that Christian Morality is\\nOrganization: sgi\\nLines: 22\\nDistribution: world\\nNNTP-Posting-Host: solntze.wpd.sgi.com\\n\\nIn article <1993Apr21.141259.12012@st-andrews.ac.uk>, nrp@st-andrews.ac.uk (Norman R. Paterson) writes:\\n|> In article <1r2m21$8mo@fido.asd.sgi.com> livesey@solntze.wpd.sgi.com (Jon Livesey) writes:\\n|> >In article <1993Apr19.151902.21216@st-andrews.ac.uk>, nrp@st-andrews.ac.uk (Norman R. Paterson) writes:\\n> >Just as well, then, that I\\'m not claiming that my own moral system is\\n> >absolute.\\n> >\\n> >jon.\\n> >\\n> >[list of references stretching from here to Alpha Centauri deleted.]\\n>\\n> Jon-\\n>\\n> [and I thought to impress with my references!]\\n>\\n> Ok, so you don\\'t claim to have an absolute moral system.  Do you claim\\n> to have an objective one?  I\\'ll assume your answer is \"yes,\" apologies\\n> if not.\\n\\nI\\'ve just spent two solid months arguing that no such thing as an\\nobjective moral system exists.\\n\\njon.\\n']"
            ]
          },
          "metadata": {
            "tags": []
          },
          "execution_count": 50
        }
      ]
    },
    {
      "cell_type": "code",
      "metadata": {
        "colab": {
          "base_uri": "https://localhost:8080/"
        },
        "id": "R0hSzGCaUKaN",
        "outputId": "f7626800-16eb-44e4-b86d-68c10b0934b3"
      },
      "source": [
        "print(test_data.data[3])"
      ],
      "execution_count": 51,
      "outputs": [
        {
          "output_type": "stream",
          "text": [
            "From: bakken@cs.arizona.edu (Dave Bakken)\n",
            "Subject: Re: Saudi clergy condemns debut of human rights group!\n",
            "Keywords: international, non-usa government, government, civil rights, \tsocial issues, politics\n",
            "Organization: U of Arizona CS Dept, Tucson\n",
            "Lines: 101\n",
            "\n",
            "In article <benali.737307554@alcor> benali@alcor.concordia.ca ( ILYESS B. BDIRA ) writes:\n",
            ">It looks like Ben Baz's mind and heart are also blind, not only his eyes.\n",
            ">I used to respect him, today I lost the minimal amount of respect that\n",
            ">I struggled to keep for him.\n",
            ">To All Muslim netters: This is the same guy who gave a \"Fatwah\" that\n",
            ">Saudi Arabia can be used by the United Ststes to attack Iraq . \n",
            "\n",
            "They were attacking the Iraqis to drive them out of Kuwait,\n",
            "a country whose citizens have close blood and business ties\n",
            "to Saudi citizens.  And me thinks if the US had not helped out\n",
            "the Iraqis would have swallowed Saudi Arabia, too (or at \n",
            "least the eastern oilfields).  And no Muslim country was doing\n",
            "much of anything to help liberate Kuwait and protect Saudi\n",
            "Arabia; indeed, in some masses of citizens were demonstrating\n",
            "in favor of that butcher Saddam (who killed lotsa Muslims),\n",
            "just because he was killing, raping, and looting relatively\n",
            "rich Muslims and also thumbing his nose at the West.\n",
            "\n",
            "So how would have *you* defended Saudi Arabia and rolled\n",
            "back the Iraqi invasion, were you in charge of Saudi Arabia???\n",
            "\n",
            ">Fatwah is as legitimate as this one. With that kind of \"Clergy\", it might\n",
            ">be an Islamic duty to separate religion and politics, if religion\n",
            ">means \"official Clergy\".\n",
            "\n",
            "I think that it is a very good idea to not have governments have an\n",
            "official religion (de facto or de jure), because with human nature\n",
            "like it is, the ambitious and not the pious will always be the\n",
            "ones who rise to power.  There are just too many people in this\n",
            "world (or any country) for the citizens to really know if a \n",
            "leader is really devout or if he is just a slick operator.\n",
            "\n",
            ">\n",
            ">  \tCAIRO, Egypt (UPI) -- The Cairo-based Arab Organization for Human\n",
            ">  Rights (AOHR) Thursday welcomed the establishement last week of the\n",
            ">  Committee for Defense of Legal Rights in Saudi Arabia and said it was\n",
            ">  necessary to have such groups operating in all Arab countries.\n",
            "\n",
            "You make it sound like these guys are angels, Ilyess.  (In your\n",
            "clarinet posting you edited out some stuff; was it the following???)\n",
            "Friday's New York Times reported that this group definitely is\n",
            "more conservative than even Sheikh Baz and his followers (who\n",
            "think that the House of Saud does not rule the country conservatively\n",
            "enough).  The NYT reported that, besides complaining that the\n",
            "government was not conservative enough, they have:\n",
            "\n",
            "\t- asserted that the (approx. 500,000) Shiites in the Kingdom\n",
            "\t  are apostates, a charge that under Saudi (and Islamic) law\n",
            "\t  brings the death penalty.  \n",
            "\n",
            "\t  Diplomatic guy (Sheikh bin Jibrin), isn't he Ilyess?\n",
            "\n",
            "\t- called for severe punishment of the 40 or so women who\n",
            "\t  drove in public a while back to protest the ban on\n",
            "\t  women driving.  The guy from the group who said this,\n",
            "\t  Abdelhamoud al-Toweijri, said that these women should\n",
            "\t  be fired from their jobs, jailed, and branded as\n",
            "\t  prostitutes.\n",
            "\n",
            "\t  Is this what you want to see happen, Ilyess?  I've\n",
            "\t  heard many Muslims say that the ban on women driving\n",
            "\t  has no basis in the Qur'an, the ahadith, etc.\n",
            "\t  Yet these folks not only like the ban, they want\n",
            "\t  these women falsely called prostitutes?  \n",
            "\n",
            "\t  If I were you, I'd choose my heroes wisely,\n",
            "\t  Ilyess, not just reflexively rally behind\n",
            "\t  anyone who hates anyone you hate.\n",
            "\n",
            "\t- say that women should not be allowed to work.\n",
            "\n",
            "\t- say that TV and radio are too immoral in the Kingdom.\n",
            "\n",
            "Now, the House of Saud is neither my least nor my most favorite government\n",
            "on earth; I think they restrict religious and political reedom a lot, among\n",
            "other things.  I just think that the most likely replacements\n",
            "for them are going to be a lot worse for the citizens of the country.\n",
            "But I think the House of Saud is feeling the heat lately.  In the\n",
            "last six months or so I've read there have been stepped up harassing\n",
            "by the muttawain (religious police---*not* government) of Western women\n",
            "not fully veiled (something stupid for women to do, IMO, because it\n",
            "sends the wrong signals about your morality).  And I've read that\n",
            "they've cracked down on the few, home-based expartiate religious\n",
            "gatherings, and even posted rewards in (government-owned) newspapers\n",
            "offering money for anyone who turns in a group of expartiates who\n",
            "dare worship in their homes or any other secret place. So the\n",
            "government has grown even more intolerant to try to take some of\n",
            "the wind out of the sails of the more-conservative opposition.\n",
            "As unislamic as some of these things are, they're just a small\n",
            "taste of what would happen if these guys overthrow the House of\n",
            "Saud, like they're trying to in the long run.\n",
            "\n",
            "Is this really what you (and Rached and others in the general\n",
            "west-is-evil-zionists-rule-hate-west-or-you-are-a-puppet crowd)\n",
            "want, Ilyess?\n",
            "\n",
            "--\n",
            "Dave Bakken\n",
            "==>\"the President is doing a fine job, but the problem is we don't know what\n",
            "    to do with her husband.\" James Carville (Clinton campaign strategist),2/93\n",
            "==>\"Oh, please call Daddy. Mom's far too busy.\"  Chelsea to nurse, CSPAN, 2/93\n",
            "\n"
          ],
          "name": "stdout"
        }
      ]
    },
    {
      "cell_type": "code",
      "metadata": {
        "id": "cKw7gqsVaK_L",
        "colab": {
          "base_uri": "https://localhost:8080/"
        },
        "outputId": "80af18a2-ec18-48b7-e8ed-eccd16b2c826"
      },
      "source": [
        "# Data preprocessing step for the unseen document\n",
        "bow = dictionary.doc2bow(preprocess(test_data.data[3]))\n",
        "\n",
        "for index, score in sorted(lda_model[bow], key=lambda tup: -1*tup[1]):\n",
        "    print(\"Score: {}\\t Topic: {}\".format(score, lda_model.print_topic(index, 5)))\n",
        "\n",
        "print(test_data.target[3])"
      ],
      "execution_count": 37,
      "outputs": [
        {
          "output_type": "stream",
          "text": [
            "Score: 0.4684653580188751\t Topic: 0.008*\"israel\" + 0.006*\"isra\" + 0.004*\"arab\" + 0.004*\"research\" + 0.004*\"jew\"\n",
            "Score: 0.2354603111743927\t Topic: 0.011*\"armenian\" + 0.006*\"turkish\" + 0.006*\"bike\" + 0.005*\"kill\" + 0.004*\"live\"\n",
            "Score: 0.16906537115573883\t Topic: 0.020*\"drive\" + 0.010*\"scsi\" + 0.008*\"presid\" + 0.007*\"govern\" + 0.007*\"control\"\n",
            "Score: 0.08499891310930252\t Topic: 0.014*\"christian\" + 0.009*\"jesus\" + 0.007*\"exist\" + 0.006*\"bibl\" + 0.005*\"religion\"\n",
            "Score: 0.040687885135412216\t Topic: 0.009*\"encrypt\" + 0.007*\"chip\" + 0.006*\"secur\" + 0.006*\"clipper\" + 0.005*\"govern\"\n",
            "17\n"
          ],
          "name": "stdout"
        }
      ]
    }
  ]
}